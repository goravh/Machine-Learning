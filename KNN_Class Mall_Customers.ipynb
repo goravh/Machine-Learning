{
 "cells": [
  {
   "cell_type": "markdown",
   "id": "7b7b93d9",
   "metadata": {},
   "source": [
    "# Importing libraries\n"
   ]
  },
  {
   "cell_type": "code",
   "execution_count": 7,
   "id": "e702200d",
   "metadata": {},
   "outputs": [],
   "source": [
    "import numpy as np\n",
    "import pandas as pd\n",
    "import matplotlib.pyplot as plt"
   ]
  },
  {
   "cell_type": "markdown",
   "id": "6f28def9",
   "metadata": {},
   "source": [
    "# Loading dataset"
   ]
  },
  {
   "cell_type": "code",
   "execution_count": 6,
   "id": "76ba5c37",
   "metadata": {
    "scrolled": true
   },
   "outputs": [],
   "source": [
    "df = pd.read_csv('Mall_Customers.csv')"
   ]
  },
  {
   "cell_type": "markdown",
   "id": "cc591e32",
   "metadata": {},
   "source": [
    "# Performing EDA"
   ]
  },
  {
   "cell_type": "code",
   "execution_count": 9,
   "id": "14452499",
   "metadata": {},
   "outputs": [
    {
     "data": {
      "text/plain": [
       "(200, 5)"
      ]
     },
     "execution_count": 9,
     "metadata": {},
     "output_type": "execute_result"
    }
   ],
   "source": [
    "df.shape"
   ]
  },
  {
   "cell_type": "code",
   "execution_count": 10,
   "id": "1efabe4f",
   "metadata": {},
   "outputs": [
    {
     "data": {
      "text/html": [
       "<div>\n",
       "<style scoped>\n",
       "    .dataframe tbody tr th:only-of-type {\n",
       "        vertical-align: middle;\n",
       "    }\n",
       "\n",
       "    .dataframe tbody tr th {\n",
       "        vertical-align: top;\n",
       "    }\n",
       "\n",
       "    .dataframe thead th {\n",
       "        text-align: right;\n",
       "    }\n",
       "</style>\n",
       "<table border=\"1\" class=\"dataframe\">\n",
       "  <thead>\n",
       "    <tr style=\"text-align: right;\">\n",
       "      <th></th>\n",
       "      <th>CustomerID</th>\n",
       "      <th>Gender</th>\n",
       "      <th>Age</th>\n",
       "      <th>Annual Income (k$)</th>\n",
       "      <th>Spending Score (1-100)</th>\n",
       "    </tr>\n",
       "  </thead>\n",
       "  <tbody>\n",
       "    <tr>\n",
       "      <th>0</th>\n",
       "      <td>1</td>\n",
       "      <td>Male</td>\n",
       "      <td>19</td>\n",
       "      <td>15</td>\n",
       "      <td>39</td>\n",
       "    </tr>\n",
       "    <tr>\n",
       "      <th>1</th>\n",
       "      <td>2</td>\n",
       "      <td>Male</td>\n",
       "      <td>21</td>\n",
       "      <td>15</td>\n",
       "      <td>81</td>\n",
       "    </tr>\n",
       "    <tr>\n",
       "      <th>2</th>\n",
       "      <td>3</td>\n",
       "      <td>Female</td>\n",
       "      <td>20</td>\n",
       "      <td>16</td>\n",
       "      <td>6</td>\n",
       "    </tr>\n",
       "    <tr>\n",
       "      <th>3</th>\n",
       "      <td>4</td>\n",
       "      <td>Female</td>\n",
       "      <td>23</td>\n",
       "      <td>16</td>\n",
       "      <td>77</td>\n",
       "    </tr>\n",
       "    <tr>\n",
       "      <th>4</th>\n",
       "      <td>5</td>\n",
       "      <td>Female</td>\n",
       "      <td>31</td>\n",
       "      <td>17</td>\n",
       "      <td>40</td>\n",
       "    </tr>\n",
       "  </tbody>\n",
       "</table>\n",
       "</div>"
      ],
      "text/plain": [
       "   CustomerID  Gender  Age  Annual Income (k$)  Spending Score (1-100)\n",
       "0           1    Male   19                  15                      39\n",
       "1           2    Male   21                  15                      81\n",
       "2           3  Female   20                  16                       6\n",
       "3           4  Female   23                  16                      77\n",
       "4           5  Female   31                  17                      40"
      ]
     },
     "execution_count": 10,
     "metadata": {},
     "output_type": "execute_result"
    }
   ],
   "source": [
    "df.head()"
   ]
  },
  {
   "cell_type": "code",
   "execution_count": 11,
   "id": "1aa8d526",
   "metadata": {},
   "outputs": [
    {
     "data": {
      "text/plain": [
       "CustomerID                0\n",
       "Gender                    0\n",
       "Age                       0\n",
       "Annual Income (k$)        0\n",
       "Spending Score (1-100)    0\n",
       "dtype: int64"
      ]
     },
     "execution_count": 11,
     "metadata": {},
     "output_type": "execute_result"
    }
   ],
   "source": [
    "df.isna().sum()"
   ]
  },
  {
   "cell_type": "code",
   "execution_count": 12,
   "id": "e1449b38",
   "metadata": {},
   "outputs": [
    {
     "name": "stdout",
     "output_type": "stream",
     "text": [
      "<class 'pandas.core.frame.DataFrame'>\n",
      "RangeIndex: 200 entries, 0 to 199\n",
      "Data columns (total 5 columns):\n",
      " #   Column                  Non-Null Count  Dtype \n",
      "---  ------                  --------------  ----- \n",
      " 0   CustomerID              200 non-null    int64 \n",
      " 1   Gender                  200 non-null    object\n",
      " 2   Age                     200 non-null    int64 \n",
      " 3   Annual Income (k$)      200 non-null    int64 \n",
      " 4   Spending Score (1-100)  200 non-null    int64 \n",
      "dtypes: int64(4), object(1)\n",
      "memory usage: 7.9+ KB\n"
     ]
    }
   ],
   "source": [
    "df.info()"
   ]
  },
  {
   "cell_type": "code",
   "execution_count": 13,
   "id": "9a4b7292",
   "metadata": {},
   "outputs": [],
   "source": [
    "#droping CustomerID column as it is not making an important contribution while KNN\n",
    "df.drop('CustomerID',axis =1,inplace = True)"
   ]
  },
  {
   "cell_type": "code",
   "execution_count": 14,
   "id": "3521fd8c",
   "metadata": {},
   "outputs": [
    {
     "data": {
      "text/html": [
       "<div>\n",
       "<style scoped>\n",
       "    .dataframe tbody tr th:only-of-type {\n",
       "        vertical-align: middle;\n",
       "    }\n",
       "\n",
       "    .dataframe tbody tr th {\n",
       "        vertical-align: top;\n",
       "    }\n",
       "\n",
       "    .dataframe thead th {\n",
       "        text-align: right;\n",
       "    }\n",
       "</style>\n",
       "<table border=\"1\" class=\"dataframe\">\n",
       "  <thead>\n",
       "    <tr style=\"text-align: right;\">\n",
       "      <th></th>\n",
       "      <th>Gender</th>\n",
       "      <th>Age</th>\n",
       "      <th>Annual Income (k$)</th>\n",
       "      <th>Spending Score (1-100)</th>\n",
       "    </tr>\n",
       "  </thead>\n",
       "  <tbody>\n",
       "    <tr>\n",
       "      <th>0</th>\n",
       "      <td>Male</td>\n",
       "      <td>19</td>\n",
       "      <td>15</td>\n",
       "      <td>39</td>\n",
       "    </tr>\n",
       "    <tr>\n",
       "      <th>1</th>\n",
       "      <td>Male</td>\n",
       "      <td>21</td>\n",
       "      <td>15</td>\n",
       "      <td>81</td>\n",
       "    </tr>\n",
       "    <tr>\n",
       "      <th>2</th>\n",
       "      <td>Female</td>\n",
       "      <td>20</td>\n",
       "      <td>16</td>\n",
       "      <td>6</td>\n",
       "    </tr>\n",
       "    <tr>\n",
       "      <th>3</th>\n",
       "      <td>Female</td>\n",
       "      <td>23</td>\n",
       "      <td>16</td>\n",
       "      <td>77</td>\n",
       "    </tr>\n",
       "    <tr>\n",
       "      <th>4</th>\n",
       "      <td>Female</td>\n",
       "      <td>31</td>\n",
       "      <td>17</td>\n",
       "      <td>40</td>\n",
       "    </tr>\n",
       "  </tbody>\n",
       "</table>\n",
       "</div>"
      ],
      "text/plain": [
       "   Gender  Age  Annual Income (k$)  Spending Score (1-100)\n",
       "0    Male   19                  15                      39\n",
       "1    Male   21                  15                      81\n",
       "2  Female   20                  16                       6\n",
       "3  Female   23                  16                      77\n",
       "4  Female   31                  17                      40"
      ]
     },
     "execution_count": 14,
     "metadata": {},
     "output_type": "execute_result"
    }
   ],
   "source": [
    "df.head()"
   ]
  },
  {
   "cell_type": "code",
   "execution_count": 15,
   "id": "4039d03e",
   "metadata": {},
   "outputs": [],
   "source": [
    "df.rename(columns = {\"Annual Income (k$)\" :\"Annual Income\", \"Spending Score (1-100)\": \"Spending Score\" }, inplace= True)"
   ]
  },
  {
   "cell_type": "code",
   "execution_count": 16,
   "id": "385820d3",
   "metadata": {},
   "outputs": [
    {
     "data": {
      "text/html": [
       "<div>\n",
       "<style scoped>\n",
       "    .dataframe tbody tr th:only-of-type {\n",
       "        vertical-align: middle;\n",
       "    }\n",
       "\n",
       "    .dataframe tbody tr th {\n",
       "        vertical-align: top;\n",
       "    }\n",
       "\n",
       "    .dataframe thead th {\n",
       "        text-align: right;\n",
       "    }\n",
       "</style>\n",
       "<table border=\"1\" class=\"dataframe\">\n",
       "  <thead>\n",
       "    <tr style=\"text-align: right;\">\n",
       "      <th></th>\n",
       "      <th>Gender</th>\n",
       "      <th>Age</th>\n",
       "      <th>Annual Income</th>\n",
       "      <th>Spending Score</th>\n",
       "    </tr>\n",
       "  </thead>\n",
       "  <tbody>\n",
       "    <tr>\n",
       "      <th>0</th>\n",
       "      <td>1</td>\n",
       "      <td>19</td>\n",
       "      <td>15000</td>\n",
       "      <td>39</td>\n",
       "    </tr>\n",
       "    <tr>\n",
       "      <th>1</th>\n",
       "      <td>1</td>\n",
       "      <td>21</td>\n",
       "      <td>15000</td>\n",
       "      <td>81</td>\n",
       "    </tr>\n",
       "    <tr>\n",
       "      <th>2</th>\n",
       "      <td>0</td>\n",
       "      <td>20</td>\n",
       "      <td>16000</td>\n",
       "      <td>6</td>\n",
       "    </tr>\n",
       "    <tr>\n",
       "      <th>3</th>\n",
       "      <td>0</td>\n",
       "      <td>23</td>\n",
       "      <td>16000</td>\n",
       "      <td>77</td>\n",
       "    </tr>\n",
       "    <tr>\n",
       "      <th>4</th>\n",
       "      <td>0</td>\n",
       "      <td>31</td>\n",
       "      <td>17000</td>\n",
       "      <td>40</td>\n",
       "    </tr>\n",
       "  </tbody>\n",
       "</table>\n",
       "</div>"
      ],
      "text/plain": [
       "   Gender  Age  Annual Income  Spending Score\n",
       "0       1   19          15000              39\n",
       "1       1   21          15000              81\n",
       "2       0   20          16000               6\n",
       "3       0   23          16000              77\n",
       "4       0   31          17000              40"
      ]
     },
     "execution_count": 16,
     "metadata": {},
     "output_type": "execute_result"
    }
   ],
   "source": [
    "df['Annual Income'] = df['Annual Income'] * 1000\n",
    "df['Gender'] = np.where(df['Gender']==\"Male\",1,0)   ### ASsigning 1 to Male and 0 to Femle in gender\n",
    "df.head()"
   ]
  },
  {
   "cell_type": "code",
   "execution_count": 17,
   "id": "0ae90efc",
   "metadata": {},
   "outputs": [],
   "source": [
    "#seperating X and y\n",
    "x = df.loc[:,['Age','Annual Income','Gender']].values   ### Creating X with columns age annual income and gender\n",
    "y = df.loc[:,['Spending Score']].values    ###  Creating Y with Spending score"
   ]
  },
  {
   "cell_type": "code",
   "execution_count": 18,
   "id": "2c638ef0",
   "metadata": {},
   "outputs": [
    {
     "data": {
      "text/plain": [
       "array([[    19,  15000,      1],\n",
       "       [    21,  15000,      1],\n",
       "       [    20,  16000,      0],\n",
       "       [    23,  16000,      0],\n",
       "       [    31,  17000,      0],\n",
       "       [    22,  17000,      0],\n",
       "       [    35,  18000,      0],\n",
       "       [    23,  18000,      0],\n",
       "       [    64,  19000,      1],\n",
       "       [    30,  19000,      0],\n",
       "       [    67,  19000,      1],\n",
       "       [    35,  19000,      0],\n",
       "       [    58,  20000,      0],\n",
       "       [    24,  20000,      0],\n",
       "       [    37,  20000,      1],\n",
       "       [    22,  20000,      1],\n",
       "       [    35,  21000,      0],\n",
       "       [    20,  21000,      1],\n",
       "       [    52,  23000,      1],\n",
       "       [    35,  23000,      0],\n",
       "       [    35,  24000,      1],\n",
       "       [    25,  24000,      1],\n",
       "       [    46,  25000,      0],\n",
       "       [    31,  25000,      1],\n",
       "       [    54,  28000,      0],\n",
       "       [    29,  28000,      1],\n",
       "       [    45,  28000,      0],\n",
       "       [    35,  28000,      1],\n",
       "       [    40,  29000,      0],\n",
       "       [    23,  29000,      0],\n",
       "       [    60,  30000,      1],\n",
       "       [    21,  30000,      0],\n",
       "       [    53,  33000,      1],\n",
       "       [    18,  33000,      1],\n",
       "       [    49,  33000,      0],\n",
       "       [    21,  33000,      0],\n",
       "       [    42,  34000,      0],\n",
       "       [    30,  34000,      0],\n",
       "       [    36,  37000,      0],\n",
       "       [    20,  37000,      0],\n",
       "       [    65,  38000,      0],\n",
       "       [    24,  38000,      1],\n",
       "       [    48,  39000,      1],\n",
       "       [    31,  39000,      0],\n",
       "       [    49,  39000,      0],\n",
       "       [    24,  39000,      0],\n",
       "       [    50,  40000,      0],\n",
       "       [    27,  40000,      0],\n",
       "       [    29,  40000,      0],\n",
       "       [    31,  40000,      0],\n",
       "       [    49,  42000,      0],\n",
       "       [    33,  42000,      1],\n",
       "       [    31,  43000,      0],\n",
       "       [    59,  43000,      1],\n",
       "       [    50,  43000,      0],\n",
       "       [    47,  43000,      1],\n",
       "       [    51,  44000,      0],\n",
       "       [    69,  44000,      1],\n",
       "       [    27,  46000,      0],\n",
       "       [    53,  46000,      1],\n",
       "       [    70,  46000,      1],\n",
       "       [    19,  46000,      1],\n",
       "       [    67,  47000,      0],\n",
       "       [    54,  47000,      0],\n",
       "       [    63,  48000,      1],\n",
       "       [    18,  48000,      1],\n",
       "       [    43,  48000,      0],\n",
       "       [    68,  48000,      0],\n",
       "       [    19,  48000,      1],\n",
       "       [    32,  48000,      0],\n",
       "       [    70,  49000,      1],\n",
       "       [    47,  49000,      0],\n",
       "       [    60,  50000,      0],\n",
       "       [    60,  50000,      0],\n",
       "       [    59,  54000,      1],\n",
       "       [    26,  54000,      1],\n",
       "       [    45,  54000,      0],\n",
       "       [    40,  54000,      1],\n",
       "       [    23,  54000,      0],\n",
       "       [    49,  54000,      0],\n",
       "       [    57,  54000,      1],\n",
       "       [    38,  54000,      1],\n",
       "       [    67,  54000,      1],\n",
       "       [    46,  54000,      0],\n",
       "       [    21,  54000,      0],\n",
       "       [    48,  54000,      1],\n",
       "       [    55,  57000,      0],\n",
       "       [    22,  57000,      0],\n",
       "       [    34,  58000,      0],\n",
       "       [    50,  58000,      0],\n",
       "       [    68,  59000,      0],\n",
       "       [    18,  59000,      1],\n",
       "       [    48,  60000,      1],\n",
       "       [    40,  60000,      0],\n",
       "       [    32,  60000,      0],\n",
       "       [    24,  60000,      1],\n",
       "       [    47,  60000,      0],\n",
       "       [    27,  60000,      0],\n",
       "       [    48,  61000,      1],\n",
       "       [    20,  61000,      1],\n",
       "       [    23,  62000,      0],\n",
       "       [    49,  62000,      0],\n",
       "       [    67,  62000,      1],\n",
       "       [    26,  62000,      1],\n",
       "       [    49,  62000,      1],\n",
       "       [    21,  62000,      0],\n",
       "       [    66,  63000,      0],\n",
       "       [    54,  63000,      1],\n",
       "       [    68,  63000,      1],\n",
       "       [    66,  63000,      1],\n",
       "       [    65,  63000,      1],\n",
       "       [    19,  63000,      0],\n",
       "       [    38,  64000,      0],\n",
       "       [    19,  64000,      1],\n",
       "       [    18,  65000,      0],\n",
       "       [    19,  65000,      0],\n",
       "       [    63,  65000,      0],\n",
       "       [    49,  65000,      0],\n",
       "       [    51,  67000,      0],\n",
       "       [    50,  67000,      0],\n",
       "       [    27,  67000,      1],\n",
       "       [    38,  67000,      0],\n",
       "       [    40,  69000,      0],\n",
       "       [    39,  69000,      1],\n",
       "       [    23,  70000,      0],\n",
       "       [    31,  70000,      0],\n",
       "       [    43,  71000,      1],\n",
       "       [    40,  71000,      1],\n",
       "       [    59,  71000,      1],\n",
       "       [    38,  71000,      1],\n",
       "       [    47,  71000,      1],\n",
       "       [    39,  71000,      1],\n",
       "       [    25,  72000,      0],\n",
       "       [    31,  72000,      0],\n",
       "       [    20,  73000,      1],\n",
       "       [    29,  73000,      0],\n",
       "       [    44,  73000,      0],\n",
       "       [    32,  73000,      1],\n",
       "       [    19,  74000,      1],\n",
       "       [    35,  74000,      0],\n",
       "       [    57,  75000,      0],\n",
       "       [    32,  75000,      1],\n",
       "       [    28,  76000,      0],\n",
       "       [    32,  76000,      0],\n",
       "       [    25,  77000,      1],\n",
       "       [    28,  77000,      1],\n",
       "       [    48,  77000,      1],\n",
       "       [    32,  77000,      0],\n",
       "       [    34,  78000,      0],\n",
       "       [    34,  78000,      1],\n",
       "       [    43,  78000,      1],\n",
       "       [    39,  78000,      1],\n",
       "       [    44,  78000,      0],\n",
       "       [    38,  78000,      0],\n",
       "       [    47,  78000,      0],\n",
       "       [    27,  78000,      0],\n",
       "       [    37,  78000,      1],\n",
       "       [    30,  78000,      0],\n",
       "       [    34,  78000,      1],\n",
       "       [    30,  78000,      0],\n",
       "       [    56,  79000,      0],\n",
       "       [    29,  79000,      0],\n",
       "       [    19,  81000,      1],\n",
       "       [    31,  81000,      0],\n",
       "       [    50,  85000,      1],\n",
       "       [    36,  85000,      0],\n",
       "       [    42,  86000,      1],\n",
       "       [    33,  86000,      0],\n",
       "       [    36,  87000,      0],\n",
       "       [    32,  87000,      1],\n",
       "       [    40,  87000,      1],\n",
       "       [    28,  87000,      1],\n",
       "       [    36,  87000,      1],\n",
       "       [    36,  87000,      1],\n",
       "       [    52,  88000,      0],\n",
       "       [    30,  88000,      0],\n",
       "       [    58,  88000,      1],\n",
       "       [    27,  88000,      1],\n",
       "       [    59,  93000,      1],\n",
       "       [    35,  93000,      1],\n",
       "       [    37,  97000,      0],\n",
       "       [    32,  97000,      0],\n",
       "       [    46,  98000,      1],\n",
       "       [    29,  98000,      0],\n",
       "       [    41,  99000,      0],\n",
       "       [    30,  99000,      1],\n",
       "       [    54, 101000,      0],\n",
       "       [    28, 101000,      1],\n",
       "       [    41, 103000,      0],\n",
       "       [    36, 103000,      0],\n",
       "       [    34, 103000,      0],\n",
       "       [    32, 103000,      0],\n",
       "       [    33, 113000,      1],\n",
       "       [    38, 113000,      0],\n",
       "       [    47, 120000,      0],\n",
       "       [    35, 120000,      0],\n",
       "       [    45, 126000,      0],\n",
       "       [    32, 126000,      1],\n",
       "       [    32, 137000,      1],\n",
       "       [    30, 137000,      1]], dtype=int64)"
      ]
     },
     "execution_count": 18,
     "metadata": {},
     "output_type": "execute_result"
    }
   ],
   "source": [
    "x"
   ]
  },
  {
   "cell_type": "code",
   "execution_count": 19,
   "id": "db00bb7a",
   "metadata": {},
   "outputs": [
    {
     "data": {
      "text/plain": [
       "array([[39],\n",
       "       [81],\n",
       "       [ 6],\n",
       "       [77],\n",
       "       [40],\n",
       "       [76],\n",
       "       [ 6],\n",
       "       [94],\n",
       "       [ 3],\n",
       "       [72],\n",
       "       [14],\n",
       "       [99],\n",
       "       [15],\n",
       "       [77],\n",
       "       [13],\n",
       "       [79],\n",
       "       [35],\n",
       "       [66],\n",
       "       [29],\n",
       "       [98],\n",
       "       [35],\n",
       "       [73],\n",
       "       [ 5],\n",
       "       [73],\n",
       "       [14],\n",
       "       [82],\n",
       "       [32],\n",
       "       [61],\n",
       "       [31],\n",
       "       [87],\n",
       "       [ 4],\n",
       "       [73],\n",
       "       [ 4],\n",
       "       [92],\n",
       "       [14],\n",
       "       [81],\n",
       "       [17],\n",
       "       [73],\n",
       "       [26],\n",
       "       [75],\n",
       "       [35],\n",
       "       [92],\n",
       "       [36],\n",
       "       [61],\n",
       "       [28],\n",
       "       [65],\n",
       "       [55],\n",
       "       [47],\n",
       "       [42],\n",
       "       [42],\n",
       "       [52],\n",
       "       [60],\n",
       "       [54],\n",
       "       [60],\n",
       "       [45],\n",
       "       [41],\n",
       "       [50],\n",
       "       [46],\n",
       "       [51],\n",
       "       [46],\n",
       "       [56],\n",
       "       [55],\n",
       "       [52],\n",
       "       [59],\n",
       "       [51],\n",
       "       [59],\n",
       "       [50],\n",
       "       [48],\n",
       "       [59],\n",
       "       [47],\n",
       "       [55],\n",
       "       [42],\n",
       "       [49],\n",
       "       [56],\n",
       "       [47],\n",
       "       [54],\n",
       "       [53],\n",
       "       [48],\n",
       "       [52],\n",
       "       [42],\n",
       "       [51],\n",
       "       [55],\n",
       "       [41],\n",
       "       [44],\n",
       "       [57],\n",
       "       [46],\n",
       "       [58],\n",
       "       [55],\n",
       "       [60],\n",
       "       [46],\n",
       "       [55],\n",
       "       [41],\n",
       "       [49],\n",
       "       [40],\n",
       "       [42],\n",
       "       [52],\n",
       "       [47],\n",
       "       [50],\n",
       "       [42],\n",
       "       [49],\n",
       "       [41],\n",
       "       [48],\n",
       "       [59],\n",
       "       [55],\n",
       "       [56],\n",
       "       [42],\n",
       "       [50],\n",
       "       [46],\n",
       "       [43],\n",
       "       [48],\n",
       "       [52],\n",
       "       [54],\n",
       "       [42],\n",
       "       [46],\n",
       "       [48],\n",
       "       [50],\n",
       "       [43],\n",
       "       [59],\n",
       "       [43],\n",
       "       [57],\n",
       "       [56],\n",
       "       [40],\n",
       "       [58],\n",
       "       [91],\n",
       "       [29],\n",
       "       [77],\n",
       "       [35],\n",
       "       [95],\n",
       "       [11],\n",
       "       [75],\n",
       "       [ 9],\n",
       "       [75],\n",
       "       [34],\n",
       "       [71],\n",
       "       [ 5],\n",
       "       [88],\n",
       "       [ 7],\n",
       "       [73],\n",
       "       [10],\n",
       "       [72],\n",
       "       [ 5],\n",
       "       [93],\n",
       "       [40],\n",
       "       [87],\n",
       "       [12],\n",
       "       [97],\n",
       "       [36],\n",
       "       [74],\n",
       "       [22],\n",
       "       [90],\n",
       "       [17],\n",
       "       [88],\n",
       "       [20],\n",
       "       [76],\n",
       "       [16],\n",
       "       [89],\n",
       "       [ 1],\n",
       "       [78],\n",
       "       [ 1],\n",
       "       [73],\n",
       "       [35],\n",
       "       [83],\n",
       "       [ 5],\n",
       "       [93],\n",
       "       [26],\n",
       "       [75],\n",
       "       [20],\n",
       "       [95],\n",
       "       [27],\n",
       "       [63],\n",
       "       [13],\n",
       "       [75],\n",
       "       [10],\n",
       "       [92],\n",
       "       [13],\n",
       "       [86],\n",
       "       [15],\n",
       "       [69],\n",
       "       [14],\n",
       "       [90],\n",
       "       [32],\n",
       "       [86],\n",
       "       [15],\n",
       "       [88],\n",
       "       [39],\n",
       "       [97],\n",
       "       [24],\n",
       "       [68],\n",
       "       [17],\n",
       "       [85],\n",
       "       [23],\n",
       "       [69],\n",
       "       [ 8],\n",
       "       [91],\n",
       "       [16],\n",
       "       [79],\n",
       "       [28],\n",
       "       [74],\n",
       "       [18],\n",
       "       [83]], dtype=int64)"
      ]
     },
     "execution_count": 19,
     "metadata": {},
     "output_type": "execute_result"
    }
   ],
   "source": [
    "y"
   ]
  },
  {
   "cell_type": "code",
   "execution_count": 20,
   "id": "906d0063",
   "metadata": {},
   "outputs": [],
   "source": [
    "#### Feature Scaling \n",
    "### In KNN Algorithm the Feature scaling is necessary\n",
    "\n",
    "from sklearn.preprocessing import StandardScaler\n",
    "sc = StandardScaler()\n",
    "X = sc.fit_transform(x)"
   ]
  },
  {
   "cell_type": "code",
   "execution_count": 21,
   "id": "95752aa2",
   "metadata": {},
   "outputs": [],
   "source": [
    "#model was expecting a 1d array as input\n",
    "y = y.reshape(-1)"
   ]
  },
  {
   "cell_type": "code",
   "execution_count": 22,
   "id": "03e908b4",
   "metadata": {},
   "outputs": [
    {
     "data": {
      "text/plain": [
       "(200,)"
      ]
     },
     "execution_count": 22,
     "metadata": {},
     "output_type": "execute_result"
    }
   ],
   "source": [
    "y.shape"
   ]
  },
  {
   "cell_type": "code",
   "execution_count": 23,
   "id": "c5d8e831",
   "metadata": {},
   "outputs": [
    {
     "data": {
      "text/plain": [
       "array([39, 81,  6, 77, 40, 76,  6, 94,  3, 72, 14, 99, 15, 77, 13, 79, 35,\n",
       "       66, 29, 98, 35, 73,  5, 73, 14, 82, 32, 61, 31, 87,  4, 73,  4, 92,\n",
       "       14, 81, 17, 73, 26, 75, 35, 92, 36, 61, 28, 65, 55, 47, 42, 42, 52,\n",
       "       60, 54, 60, 45, 41, 50, 46, 51, 46, 56, 55, 52, 59, 51, 59, 50, 48,\n",
       "       59, 47, 55, 42, 49, 56, 47, 54, 53, 48, 52, 42, 51, 55, 41, 44, 57,\n",
       "       46, 58, 55, 60, 46, 55, 41, 49, 40, 42, 52, 47, 50, 42, 49, 41, 48,\n",
       "       59, 55, 56, 42, 50, 46, 43, 48, 52, 54, 42, 46, 48, 50, 43, 59, 43,\n",
       "       57, 56, 40, 58, 91, 29, 77, 35, 95, 11, 75,  9, 75, 34, 71,  5, 88,\n",
       "        7, 73, 10, 72,  5, 93, 40, 87, 12, 97, 36, 74, 22, 90, 17, 88, 20,\n",
       "       76, 16, 89,  1, 78,  1, 73, 35, 83,  5, 93, 26, 75, 20, 95, 27, 63,\n",
       "       13, 75, 10, 92, 13, 86, 15, 69, 14, 90, 32, 86, 15, 88, 39, 97, 24,\n",
       "       68, 17, 85, 23, 69,  8, 91, 16, 79, 28, 74, 18, 83], dtype=int64)"
      ]
     },
     "execution_count": 23,
     "metadata": {},
     "output_type": "execute_result"
    }
   ],
   "source": [
    "y"
   ]
  },
  {
   "cell_type": "code",
   "execution_count": 24,
   "id": "3fbf7ea5",
   "metadata": {},
   "outputs": [],
   "source": [
    "#Splitting the data into train and test data\n",
    "from sklearn.model_selection import train_test_split\n",
    "X_train,X_test,y_train,y_test = train_test_split(X,y,random_state = 0, test_size = 0.25)"
   ]
  },
  {
   "cell_type": "code",
   "execution_count": 25,
   "id": "0d9b9a4f",
   "metadata": {},
   "outputs": [],
   "source": [
    "#importing classification metrics\n",
    "from sklearn.metrics import confusion_matrix,accuracy_score"
   ]
  },
  {
   "cell_type": "code",
   "execution_count": 26,
   "id": "dbfd6f4e",
   "metadata": {},
   "outputs": [],
   "source": [
    "from sklearn.neighbors import KNeighborsClassifier"
   ]
  },
  {
   "cell_type": "code",
   "execution_count": 27,
   "id": "97911327",
   "metadata": {},
   "outputs": [],
   "source": [
    "###### Selcting value of K\n",
    "\n",
    "accu_list = []\n",
    "err_list = []\n",
    "for i in range(1,25):\n",
    "    model = KNeighborsClassifier(n_neighbors=i)\n",
    "    model.fit(X_train,y_train)\n",
    "    y_pred = model.predict(X_test)\n",
    "    accu = accuracy_score(y_test,y_pred)\n",
    "#     print(\"For k = {}, accuracy = {}\".format(i,acc))\n",
    "    accu_list.append(accu)\n",
    "    err_list.append(1-accu)"
   ]
  },
  {
   "cell_type": "code",
   "execution_count": 28,
   "id": "8e3f8d57",
   "metadata": {},
   "outputs": [
    {
     "data": {
      "image/png": "[encoded data removed]",
      "text/plain": [
       "<Figure size 432x288 with 1 Axes>"
      ]
     },
     "metadata": {
      "needs_background": "light"
     },
     "output_type": "display_data"
    }
   ],
   "source": [
    "plt.plot(list(range(1,25)),err_list,c= 'r')\n",
    "plt.title('Error rate v/s K')\n",
    "plt.xlabel('K')\n",
    "plt.ylabel('Error rate')\n",
    "plt.show()"
   ]
  },
  {
   "cell_type": "code",
   "execution_count": 29,
   "id": "565e0f30",
   "metadata": {},
   "outputs": [],
   "source": [
    "###  From Above Graph we can select k as 5"
   ]
  },
  {
   "cell_type": "code",
   "execution_count": 30,
   "id": "867053ef",
   "metadata": {},
   "outputs": [],
   "source": [
    "### Model BUilding\n",
    "model = KNeighborsClassifier(n_neighbors=5)\n",
    "model.fit(X_train,y_train)\n",
    "y_pred = model.predict(X_test)"
   ]
  },
  {
   "cell_type": "code",
   "execution_count": 31,
   "id": "571ce1d6",
   "metadata": {},
   "outputs": [
    {
     "data": {
      "text/plain": [
       "array([[0, 0, 0, ..., 0, 0, 0],\n",
       "       [0, 0, 1, ..., 0, 0, 0],\n",
       "       [0, 0, 0, ..., 0, 0, 0],\n",
       "       ...,\n",
       "       [0, 0, 0, ..., 0, 0, 0],\n",
       "       [0, 0, 0, ..., 0, 0, 0],\n",
       "       [0, 0, 0, ..., 0, 0, 0]], dtype=int64)"
      ]
     },
     "execution_count": 31,
     "metadata": {},
     "output_type": "execute_result"
    }
   ],
   "source": [
    "### Module Evalution\n",
    "confusion_matrix(y_test,y_pred)"
   ]
  },
  {
   "cell_type": "code",
   "execution_count": 32,
   "id": "0e71873c",
   "metadata": {},
   "outputs": [
    {
     "data": {
      "text/plain": [
       "0.04"
      ]
     },
     "execution_count": 32,
     "metadata": {},
     "output_type": "execute_result"
    }
   ],
   "source": [
    "accuracy_score(y_test,y_pred)"
   ]
  },
  {
   "cell_type": "code",
   "execution_count": null,
   "id": "683c4083",
   "metadata": {},
   "outputs": [],
   "source": []
  }
 ],
 "metadata": {
  "kernelspec": {
   "display_name": "Python 3 (ipykernel)",
   "language": "python",
   "name": "python3"
  },
  "language_info": {
   "codemirror_mode": {
    "name": "ipython",
    "version": 3
   },
   "file_extension": ".py",
   "mimetype": "text/x-python",
   "name": "python",
   "nbconvert_exporter": "python",
   "pygments_lexer": "ipython3",
   "version": "3.9.7"
  }
 },
 "nbformat": 4,
 "nbformat_minor": 5
}
